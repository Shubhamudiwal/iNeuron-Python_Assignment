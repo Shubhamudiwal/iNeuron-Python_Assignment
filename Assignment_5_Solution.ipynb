{
 "cells": [
  {
   "cell_type": "raw",
   "id": "e6abdd47",
   "metadata": {},
   "source": [
    "1. What does an empty dictionary's code look like?\n",
    "Solution:\n",
    "Two curly brackets: {}"
   ]
  },
  {
   "cell_type": "raw",
   "id": "c980b3c1",
   "metadata": {},
   "source": [
    "2. What does a dictionary value with a key 'foo' and a value 42 look like?\n",
    "Solution:\n",
    "{'foo': 42}"
   ]
  },
  {
   "cell_type": "raw",
   "id": "cd35f9d4",
   "metadata": {},
   "source": [
    "3. What is the main difference between a dictionary and a list?\n",
    "Solution:\n",
    "The items stored in a dictionary are unordered, while the items in a list are ordered.\n"
   ]
  },
  {
   "cell_type": "raw",
   "id": "612b40fa",
   "metadata": {},
   "source": [
    "4. What happens if you try to access spam['foo'] if spam is {'bar': 100}?\n",
    "Solution:\n",
    "You get a KeyError error."
   ]
  },
  {
   "cell_type": "raw",
   "id": "b504f15d",
   "metadata": {},
   "source": [
    "5. If a dictionary is stored in spam, what is the difference between the expressions 'cat' in spam and 'cat' in spam.keys()?\n",
    "Solution:\n",
    "There is no difference. The in operator checks whether a value exists as a key in the dictionary."
   ]
  },
  {
   "cell_type": "raw",
   "id": "ebbf4185",
   "metadata": {},
   "source": [
    "6. If a dictionary is stored in spam, what is the difference between the expressions 'cat' in spam and 'cat' in spam.values()?\n",
    "Solution:\n",
    "'cat' in spam checks whether there is a 'cat' key in the dictionary, while 'cat' in spam.values() checks whether there is a value 'cat' for one of the keys in spam.\n"
   ]
  },
  {
   "cell_type": "raw",
   "id": "12a9f237",
   "metadata": {},
   "source": [
    "7. What is a shortcut for the following code?\n",
    "if 'color' not in spam:\n",
    "    spam['color'] = 'black'\n",
    "Solution:\n",
    "spam.setdefault('color', 'black') "
   ]
  },
  {
   "cell_type": "raw",
   "id": "c8f62d95",
   "metadata": {},
   "source": [
    "8. What module and function can be used to “pretty print” dictionary values?\n",
    "Solution:\n",
    "pretty.print()\n"
   ]
  }
 ],
 "metadata": {
  "kernelspec": {
   "display_name": "Python 3",
   "language": "python",
   "name": "python3"
  },
  "language_info": {
   "codemirror_mode": {
    "name": "ipython",
    "version": 3
   },
   "file_extension": ".py",
   "mimetype": "text/x-python",
   "name": "python",
   "nbconvert_exporter": "python",
   "pygments_lexer": "ipython3",
   "version": "3.8.6"
  }
 },
 "nbformat": 4,
 "nbformat_minor": 5
}

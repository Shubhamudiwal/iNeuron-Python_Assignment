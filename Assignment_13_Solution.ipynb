{
 "cells": [
  {
   "cell_type": "markdown",
   "id": "fa419150",
   "metadata": {},
   "source": [
    "1. What advantages do Excel spreadsheets have over CSV spreadsheets?\n"
   ]
  },
  {
   "cell_type": "markdown",
   "id": "f5b4af4c",
   "metadata": {},
   "source": [
    "Solution:\n",
    "In Excel, spreadsheets can have values of data types other than strings; \n",
    "cells can have different fonts, sizes, or color settings; cells can have \n",
    "varying widths and heights; adjacent cells can be merged; and you \n",
    "can embed images and charts."
   ]
  },
  {
   "cell_type": "markdown",
   "id": "8147ac3f",
   "metadata": {},
   "source": [
    "2.What do you pass to csv.reader() and csv.writer() to create reader and writer objects?"
   ]
  },
  {
   "cell_type": "markdown",
   "id": "10a2c76d",
   "metadata": {},
   "source": [
    "Solution:\n",
    "You pass a File object, obtained from a call to open()."
   ]
  },
  {
   "cell_type": "markdown",
   "id": "e0018687",
   "metadata": {},
   "source": [
    "3. What modes do File objects for reader and writer objects need to be opened in?"
   ]
  },
  {
   "cell_type": "markdown",
   "id": "96927141",
   "metadata": {},
   "source": [
    "Solution:\n",
    "File objects need to be opened in read-binary ('rb') for reader objects \n",
    "and write-binary ('wb') for writer objects"
   ]
  },
  {
   "cell_type": "markdown",
   "id": "a63e1966",
   "metadata": {},
   "source": [
    "4. What method takes a list argument and writes it to a CSV file?"
   ]
  },
  {
   "cell_type": "markdown",
   "id": "4aa683f6",
   "metadata": {},
   "source": [
    "Solution:\n",
    "The writerow() method"
   ]
  },
  {
   "cell_type": "markdown",
   "id": "ae7a729a",
   "metadata": {},
   "source": [
    "5. What do the keyword arguments delimiter and line terminator do?"
   ]
  },
  {
   "cell_type": "markdown",
   "id": "fd0783dd",
   "metadata": {},
   "source": [
    "Solution:\n",
    "The delimiter argument changes the string used to separate cells \n",
    "in a row. The lineterminator argument changes the string used to \n",
    "separate rows."
   ]
  },
  {
   "cell_type": "markdown",
   "id": "b34cdf22",
   "metadata": {},
   "source": [
    "6. What function takes a string of JSON data and returns a Python data structure?"
   ]
  },
  {
   "cell_type": "markdown",
   "id": "577f11b1",
   "metadata": {},
   "source": [
    "Solution:\n",
    "json.loads()"
   ]
  },
  {
   "cell_type": "markdown",
   "id": "b75bcee1",
   "metadata": {},
   "source": [
    "7. What function takes a Python data structure and returns a string of JSON data?"
   ]
  },
  {
   "cell_type": "markdown",
   "id": "86ae6a04",
   "metadata": {},
   "source": [
    "Solution:\n",
    " json.dumps()"
   ]
  }
 ],
 "metadata": {
  "kernelspec": {
   "display_name": "Python 3",
   "language": "python",
   "name": "python3"
  },
  "language_info": {
   "codemirror_mode": {
    "name": "ipython",
    "version": 3
   },
   "file_extension": ".py",
   "mimetype": "text/x-python",
   "name": "python",
   "nbconvert_exporter": "python",
   "pygments_lexer": "ipython3",
   "version": "3.8.8"
  }
 },
 "nbformat": 4,
 "nbformat_minor": 5
}

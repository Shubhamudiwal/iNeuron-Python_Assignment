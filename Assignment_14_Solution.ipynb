{
 "cells": [
  {
   "cell_type": "markdown",
   "id": "de353181",
   "metadata": {},
   "source": [
    "1. What does RGBA stand for?"
   ]
  },
  {
   "cell_type": "markdown",
   "id": "c32e1f7e",
   "metadata": {},
   "source": [
    "Solution: \n",
    "An RGBA value is a tuple of 4 integers, each ranging from 0 to 255. The four integers correspond to the amount of red, green, blue, and alpha (transparency) in the color."
   ]
  },
  {
   "cell_type": "markdown",
   "id": "4e22f5e4",
   "metadata": {},
   "source": [
    "2. From the Pillow module, how do you get the RGBA value of any images?"
   ]
  },
  {
   "cell_type": "markdown",
   "id": "7e839aae",
   "metadata": {},
   "source": [
    "Solution:\n",
    "A function call to ImageColor.getcolor('CornflowerBlue', 'RGBA') will return (100, 149, 237, 255), the RGBA value for that color."
   ]
  },
  {
   "cell_type": "markdown",
   "id": "02be6571",
   "metadata": {},
   "source": [
    "3. What is a box tuple, and how does it work?"
   ]
  },
  {
   "cell_type": "markdown",
   "id": "6f902526",
   "metadata": {},
   "source": [
    "Solution:\n",
    "A box tuple is a tuple value of four integers: the left edge x-coordinate, the top edge y-coordinate, the width, and the height, respectively."
   ]
  },
  {
   "cell_type": "markdown",
   "id": "f66b36d6",
   "metadata": {},
   "source": [
    "4. Use your image and load in notebook then, How can you find out the width and height of an Image object?"
   ]
  },
  {
   "cell_type": "markdown",
   "id": "cc6b0f32",
   "metadata": {},
   "source": [
    "Solution:\n",
    "imageObj.size is a tuple of two integers, the width and the height."
   ]
  },
  {
   "cell_type": "markdown",
   "id": "fdbef3af",
   "metadata": {},
   "source": [
    "5. What method would you call to get Image object for a 100×100 image, excluding the lower-left quarter of it?"
   ]
  },
  {
   "cell_type": "markdown",
   "id": "7ddb6e9a",
   "metadata": {},
   "source": [
    "Solutiom:\n",
    "imageObj.crop((0, 50, 50, 50)). Notice that you are passing a box tuple to \n",
    "crop(), not four separate integer arguments"
   ]
  },
  {
   "cell_type": "markdown",
   "id": "c34585bc",
   "metadata": {},
   "source": [
    "6. After making changes to an Image object, how could you save it as an image file?"
   ]
  },
  {
   "cell_type": "markdown",
   "id": "508b417e",
   "metadata": {},
   "source": [
    "Solution:\n",
    "Call the imageObj.save('new_filename.png') method of the Image objec"
   ]
  },
  {
   "cell_type": "markdown",
   "id": "15f85392",
   "metadata": {},
   "source": [
    "7. What module contains Pillow’s shape-drawing code?"
   ]
  },
  {
   "cell_type": "markdown",
   "id": "34967dd4",
   "metadata": {},
   "source": [
    "Solution:\n",
    "The ImageDraw module contains code to draw on images."
   ]
  },
  {
   "cell_type": "markdown",
   "id": "4a178e60",
   "metadata": {},
   "source": [
    "8. Image objects do not have drawing methods. What kind of object does? How do you get this kind of object?"
   ]
  },
  {
   "cell_type": "markdown",
   "id": "c0ce7a8d",
   "metadata": {},
   "source": [
    "Solution:\n",
    "ImageDraw objects have shape-drawing methods such as point(), line(), \n",
    "or rectangle(). They are returned by passing the Image object to the \n",
    "ImageDraw.Draw() function"
   ]
  }
 ],
 "metadata": {
  "kernelspec": {
   "display_name": "Python 3",
   "language": "python",
   "name": "python3"
  },
  "language_info": {
   "codemirror_mode": {
    "name": "ipython",
    "version": 3
   },
   "file_extension": ".py",
   "mimetype": "text/x-python",
   "name": "python",
   "nbconvert_exporter": "python",
   "pygments_lexer": "ipython3",
   "version": "3.8.8"
  }
 },
 "nbformat": 4,
 "nbformat_minor": 5
}

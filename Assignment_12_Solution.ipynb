{
 "cells": [
  {
   "cell_type": "markdown",
   "id": "cc5bc731",
   "metadata": {},
   "source": [
    "1. In what modes should the PdfFileReader() and PdfFileWriter() File objects will be opened?"
   ]
  },
  {
   "cell_type": "raw",
   "id": "695f63db",
   "metadata": {},
   "source": [
    "Solution: \n",
    "Read-binary ('rb') for PdfFileReader() and write-binary ('wb') for PdfFileWriter()"
   ]
  },
  {
   "cell_type": "markdown",
   "id": "958e1dcd",
   "metadata": {},
   "source": [
    "2. From a PdfFileReader object, how do you get a Page object for page 5?"
   ]
  },
  {
   "cell_type": "raw",
   "id": "933b54db",
   "metadata": {},
   "source": [
    "Solution: \n",
    "Calling getPage(4) will return a Page object for page 5, since page 0 is \n",
    "the first page."
   ]
  },
  {
   "cell_type": "markdown",
   "id": "1f762c25",
   "metadata": {},
   "source": [
    "3. What PdfFileReader variable stores the number of pages in the PDF document?"
   ]
  },
  {
   "cell_type": "raw",
   "id": "ce7019c5",
   "metadata": {},
   "source": [
    "Solution:  \n",
    "The numPages variable stores an integer of the number of pages in the \n",
    "PdfFileReader object."
   ]
  },
  {
   "cell_type": "markdown",
   "id": "d4ce1cd4",
   "metadata": {},
   "source": [
    "4. If a PdfFileReader object’s PDF is encrypted with the password swordfish, what must you do before you can obtain Page objects from it?"
   ]
  },
  {
   "cell_type": "raw",
   "id": "00025d68",
   "metadata": {},
   "source": [
    "Solution: \n",
    "Call decrypt('swordfish')"
   ]
  },
  {
   "cell_type": "markdown",
   "id": "81b46e1a",
   "metadata": {},
   "source": [
    "5. What methods do you use to rotate a page?"
   ]
  },
  {
   "cell_type": "raw",
   "id": "bce69d55",
   "metadata": {},
   "source": [
    "Solution: \n",
    "The rotateClockwise() and rotateCounterClockwise() methods. The \n",
    "degrees to rotate is passed as an integer argument"
   ]
  },
  {
   "cell_type": "markdown",
   "id": "517622a2",
   "metadata": {},
   "source": [
    "6. What is the difference between a Run object and a Paragraph object?"
   ]
  },
  {
   "cell_type": "raw",
   "id": "8d951c97",
   "metadata": {},
   "source": [
    "Solution:\n",
    "A document contains multiple paragraphs. A paragraph begins on a \n",
    "new line and contains multiple runs. Runs are contiguous groups of \n",
    "characters within a paragraph"
   ]
  },
  {
   "cell_type": "markdown",
   "id": "2de0fbe8",
   "metadata": {},
   "source": [
    "7. How do you obtain a list of Paragraph objects for a Document object that’s stored in a variable named doc?"
   ]
  },
  {
   "cell_type": "raw",
   "id": "4bd1e3df",
   "metadata": {},
   "source": [
    "Solution:\n",
    "Use doc.paragraphs."
   ]
  },
  {
   "cell_type": "markdown",
   "id": "a101306f",
   "metadata": {},
   "source": [
    "8. What type of object has bold, underline, italic, strike, and outline variables?"
   ]
  },
  {
   "cell_type": "raw",
   "id": "b72e6948",
   "metadata": {},
   "source": [
    "Solution:\n",
    "A Run object has these variables (not a Paragraph)."
   ]
  },
  {
   "cell_type": "markdown",
   "id": "0918244e",
   "metadata": {},
   "source": [
    "9. What is the difference between False, True, and None for the bold variable?"
   ]
  },
  {
   "cell_type": "raw",
   "id": "8645b2e0",
   "metadata": {},
   "source": [
    "Solution:\n",
    "True always makes the Run object bolded and False makes it always not \n",
    "bolded, no matter what the style’s bold setting is. None will make the Run\n",
    "object just use the style’s bold setting"
   ]
  },
  {
   "cell_type": "markdown",
   "id": "3db58934",
   "metadata": {},
   "source": [
    "10. How do you create a Document object for a new Word document?"
   ]
  },
  {
   "cell_type": "raw",
   "id": "6561f5e8",
   "metadata": {},
   "source": [
    "Solution:\n",
    " Call the docx.Document() function."
   ]
  },
  {
   "cell_type": "markdown",
   "id": "3c280b47",
   "metadata": {},
   "source": [
    "11. How do you add a paragraph with the text 'Hello, there!' to a Document object stored in a variable named doc?"
   ]
  },
  {
   "cell_type": "raw",
   "id": "f6e61487",
   "metadata": {},
   "source": [
    "Solution:\n",
    "doc.add_paragraph('Hello there!')"
   ]
  },
  {
   "cell_type": "markdown",
   "id": "b7cab5aa",
   "metadata": {},
   "source": [
    "12. What integers represent the levels of headings available in Word documents?"
   ]
  },
  {
   "cell_type": "raw",
   "id": "3115682a",
   "metadata": {},
   "source": [
    "Solution:\n",
    " The integers 0, 1, 2, 3, and 4"
   ]
  },
  {
   "cell_type": "code",
   "execution_count": null,
   "id": "2dc38fdd",
   "metadata": {},
   "outputs": [],
   "source": []
  }
 ],
 "metadata": {
  "kernelspec": {
   "display_name": "Python 3",
   "language": "python",
   "name": "python3"
  },
  "language_info": {
   "codemirror_mode": {
    "name": "ipython",
    "version": 3
   },
   "file_extension": ".py",
   "mimetype": "text/x-python",
   "name": "python",
   "nbconvert_exporter": "python",
   "pygments_lexer": "ipython3",
   "version": "3.8.8"
  }
 },
 "nbformat": 4,
 "nbformat_minor": 5
}

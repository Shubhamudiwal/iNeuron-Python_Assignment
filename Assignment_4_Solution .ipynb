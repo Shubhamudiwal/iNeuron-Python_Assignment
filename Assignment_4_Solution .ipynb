{
 "cells": [
  {
   "cell_type": "raw",
   "id": "258a1777",
   "metadata": {},
   "source": [
    "1. What exactly is []?\n",
    "Solution:\n",
    "The empty list value, which is a list value that contains no items. This is similar to how '' is the empty string value.\n",
    "\n",
    "\n",
    "\n",
    "6. What is the value of bacon.index('cat')?\n",
    "7. How does bacon.append(99) change the look of the list value in bacon?\n",
    "8. How does bacon.remove('cat') change the look of the list in bacon?\n",
    "9. What are the list concatenation and list replication operators?\n",
    "10. What is difference between the list methods append() and insert()?\n",
    "11. What are the two methods for removing items from a list?\n",
    "12. Describe how list values and string values are identical.\n",
    "13. What's the difference between tuples and lists?\n",
    "14. How do you type a tuple value that only contains the integer 42?\n",
    "15. How do you get a list value's tuple form? How do you get a tuple value's list form?\n",
    "16. Variables that \"contain\" list values are not necessarily lists themselves. Instead, what do they contain?\n",
    "17. How do you distinguish between copy.copy() and copy.deepcopy()?\n"
   ]
  },
  {
   "cell_type": "raw",
   "id": "8f1b7074",
   "metadata": {},
   "source": [
    "# 2. In a list of values stored in a variable called spam, how would you assign the value 'hello' as the third value? (Assume [2, 4, 6, 8, 10] are in spam.)\n",
    "Let's pretend the spam includes the list ['a', 'b', 'c', 'd'] for the next three queries.\n",
    "Solution:\n",
    "spam[2] = 'hello'\n"
   ]
  },
  {
   "cell_type": "raw",
   "id": "db3f6ce9",
   "metadata": {},
   "source": [
    "3. What is the value of spam[int(int('3' * 2) / 11)]?\n",
    "Solution:\n",
    "'d' (Note that '3' * 2 is the string '33', which is passed to int() before being divided by 11. This eventually evaluates to 3.)\n"
   ]
  },
  {
   "cell_type": "raw",
   "id": "ef003d7d",
   "metadata": {},
   "source": [
    "4. What is the value of spam[-1]?\n",
    "Solution:\n",
    "'d' (Negative indexes count from the end.)"
   ]
  },
  {
   "cell_type": "raw",
   "id": "55575ed3",
   "metadata": {},
   "source": [
    "5. What is the value of spam[:2]?\n",
    "Solutiuon:\n",
    "['a', 'b']"
   ]
  },
  {
   "cell_type": "raw",
   "id": "0b9605ab",
   "metadata": {},
   "source": [
    "# Let's pretend bacon has the list [3.14, 'cat', 11, 'cat', True] for the next three questions.\n",
    "6. What does bacon.index('cat') evaluate to?\n",
    "Solution:\n",
    "1"
   ]
  },
  {
   "cell_type": "raw",
   "id": "c60523e7",
   "metadata": {},
   "source": [
    "7. What does bacon.append(99) make the list value in bacon look like?\n",
    "Solution:\n",
    " [3.14, 'cat', 11, 'cat', True,99]"
   ]
  },
  {
   "cell_type": "raw",
   "id": "ddf11066",
   "metadata": {},
   "source": [
    "8. What does bacon.remove('cat') make the list value in bacon look like?\n",
    "Solution:\n",
    "[3.14, 11, 'cat', True]\n"
   ]
  },
  {
   "cell_type": "raw",
   "id": "0c79e784",
   "metadata": {},
   "source": [
    "9. What are the list concatenation and list replication operators?\n",
    "Solution:\n",
    "The operator for list concatenation is +, while the operator for replication is *."
   ]
  },
  {
   "cell_type": "raw",
   "id": "35ea14a9",
   "metadata": {},
   "source": [
    "10. What is difference between the list methods append() and insert()?\n",
    "Solution:\n",
    "While append() will add values only to the end of a list, insert() can add them anywhere in the list.\n"
   ]
  },
  {
   "cell_type": "raw",
   "id": "f68bcb18",
   "metadata": {},
   "source": [
    "11. What are the two methods for removing items from a list?\n",
    "Solution:\n",
    "The del statement and the remove() list method are two ways to remove values from a list.\n"
   ]
  },
  {
   "cell_type": "raw",
   "id": "aa0a7798",
   "metadata": {},
   "source": [
    "12. Describe how list values and string values are identical.\n",
    "Solution:\n",
    "Both lists and strings can be passed to len(), have indexes and slices, be used in for loops, be concatenated or replicated, and be used with the in and not in operators."
   ]
  },
  {
   "cell_type": "raw",
   "id": "980a0c79",
   "metadata": {},
   "source": [
    "13.What is the difference between lists and tuples?\n",
    "Solution:\n",
    "Lists are mutable; they can have values added, removed, or changed. Tuples are immutable; they cannot be changed at all. Also, tuples are written using parentheses, ( and ), while lists use the square brackets, [ and ].\n",
    "\n"
   ]
  },
  {
   "cell_type": "raw",
   "id": "c96e5938",
   "metadata": {},
   "source": [
    "14. How do you type a tuple value that only contains the integer 42?\n",
    "Solution:\n",
    "(42,)(The trailing comma is mandatory.)\n",
    "\n"
   ]
  },
  {
   "cell_type": "raw",
   "id": "998674b3",
   "metadata": {},
   "source": [
    "15. How can you get the tuple form of a list value? How can you get the list form of a tuple value?\n",
    "Solution:\n",
    "The tuple() and list() functions, respectively"
   ]
  },
  {
   "cell_type": "raw",
   "id": "594e680b",
   "metadata": {},
   "source": [
    "16. Variables that “contain” list values don’t actually contain lists directly. What do they contain instead?\n",
    "Solution:\n",
    "They contain references to list values.\n",
    "\n"
   ]
  },
  {
   "cell_type": "raw",
   "id": "88266fe6",
   "metadata": {},
   "source": [
    "17. What is the difference between copy.copy() and copy.deepcopy()?\n",
    "Solution:\n",
    "The copy.copy() function will do a shallow copy of a list, while the copy.deepcopy() function will do a deep copy of a list. That is, only copy.deepcopy() will duplicate any lists inside the list.\n"
   ]
  }
 ],
 "metadata": {
  "kernelspec": {
   "display_name": "Python 3",
   "language": "python",
   "name": "python3"
  },
  "language_info": {
   "codemirror_mode": {
    "name": "ipython",
    "version": 3
   },
   "file_extension": ".py",
   "mimetype": "text/x-python",
   "name": "python",
   "nbconvert_exporter": "python",
   "pygments_lexer": "ipython3",
   "version": "3.8.6"
  }
 },
 "nbformat": 4,
 "nbformat_minor": 5
}

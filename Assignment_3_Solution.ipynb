{
 "cells": [
  {
   "cell_type": "raw",
   "id": "4e3a6944",
   "metadata": {},
   "source": [
    "1. Why are functions advantageous to have in your programs?\n",
    "\n",
    "Solution:\n",
    "\n",
    "Functions let us break up complex problems into smaller, more manageable parts. We will learn how functions let us create reusable software components that can be applied in many different programs. We will learn how the environment inside a function is separated from the outside via a well defined interface through which it communicates with that outside world. We will learn how to define a function to allow input to it when it initiates its execution and output from it when it is done.\n"
   ]
  },
  {
   "cell_type": "raw",
   "id": "eb8f06ec",
   "metadata": {},
   "source": [
    "2. When does the code in a function run: when it's specified or when it's called?\n",
    "\n",
    "Solution:\n",
    "\n",
    "Function run when you call the function and pass the appropriate arguments. Program execution goes off to the designated body of code and does its useful thing. When the function is finished, execution returns to your code where it left off. The function may or may not return data for your code to use.\n",
    "\n"
   ]
  },
  {
   "cell_type": "raw",
   "id": "cb48996a",
   "metadata": {},
   "source": [
    "3. What statement creates a function?\n",
    "\n",
    "Solution:\n",
    "\n",
    "You can define functions to provide the required functionality. Here are simple rules to define a function in Python.\n",
    "\n",
    "Function blocks begin with the keyword def followed by the function name and parentheses ( ( ) ).\n",
    "\n",
    "Any input parameters or arguments should be placed within these parentheses. You can also define parameters inside these parentheses.\n",
    "\n",
    "The first statement of a function can be an optional statement - the documentation string of the function or docstring.\n",
    "\n",
    "The code block within every function starts with a colon (:) and is indented.\n",
    "\n",
    "The statement return [expression] exits a function, optionally passing back an expression to the caller. A return statement with no arguments is the same as return None.\n",
    "\n",
    "E.g\n",
    "\n",
    "def functionname( parameters ):\n",
    "   \"function_docstring\"\n",
    "   function_suite\n",
    "   return [expression]"
   ]
  },
  {
   "cell_type": "raw",
   "id": "0b9cd56b",
   "metadata": {},
   "source": [
    "4. What is the difference between a function and a function call?\n",
    "\n",
    "Solution:\n",
    "\n",
    "A Function is block of code than accepts some values processes the desire task on it and return the result value.\n",
    "\n",
    "Using a function to do a particular task any point in program is called as function call.\n",
    "\n",
    "So the difference between the function and function call is,\n",
    "\n",
    "A function is procedure to achieve a particular result while function call is using this function to achive that task.\n",
    "\n",
    "Defining a function:\n",
    "\n",
    "function multiple(x,y){\n",
    "\n",
    "return x*y;\n",
    "\n",
    "}\n",
    "\n",
    "Calling a function:\n",
    "\n",
    "print multiply(2,3);\n"
   ]
  },
  {
   "cell_type": "raw",
   "id": "df62fcf3",
   "metadata": {},
   "source": [
    "5. How many global scopes are there in a Python program? How many local scopes?\n",
    "\n",
    "Solution:\n",
    "\n",
    "Global Scope:\n",
    "There’s only one global Python scope per program execution. This scope remains in existence until the program terminates and all its names are forgotten. Otherwise, the next time you were to run the program, the names would remember their values from the previous run.\n",
    "\n",
    "You can access or reference the value of any global name from any place in your code. This includes functions and classes. \n",
    "\n",
    "Local Scope:\n",
    "The local scope or function scope is a Python scope created at function calls. Every time you call a function, you’re also creating a new local scope. On the other hand, you can think of each def statement and lambda expression as a blueprint for new local scopes. These local scopes will come into existence whenever you call the function at hand.\n",
    "\n",
    "By default, parameters and names that you assign inside a function exist only within the function or local scope associated with the function call. When the function returns, the local scope is destroyed and the names are forgotten.\n"
   ]
  },
  {
   "cell_type": "raw",
   "id": "bb761c5e",
   "metadata": {},
   "source": [
    "6. What happens to variables in a local scope when the function call returns?\n",
    "\n",
    "Solution:\n",
    "\n",
    "When the execution of the function returns, the local variables are destroyed.\n"
   ]
  },
  {
   "cell_type": "raw",
   "id": "e9c5337f",
   "metadata": {},
   "source": [
    "7. What is the concept of a return value? Is it possible to have a return value in an expression?\n",
    "\n",
    "Solution:\n",
    "\n",
    "Return values are just what they sound like —  the values that a function returns when it has completed.\n",
    "To return a value from a custom function, you need to use the return keyword.\n",
    "\n",
    "E.g.\n",
    "\n",
    "function squared(num) {\n",
    "  return num * num;\n",
    "}\n",
    "\n",
    "If the return statement contains an expression, it’s evaluated first and then the value is returned.\n",
    "The value of expression, if present, is returned to the calling function. If expression is omitted, the return value of the function is undefined. The expression, if present, is evaluated and then converted to the type returned by the function. "
   ]
  },
  {
   "cell_type": "raw",
   "id": "8ed81287",
   "metadata": {},
   "source": [
    "8. If a function does not have a return statement, what is the return value of a call to that function?\n",
    "\n",
    "Solution:\n",
    "\n",
    "If no return statement appears in a function definition, control automatically returns to the calling function after the last statement of the called function is executed. In this case, the return value of the called function is undefined. If the function has a return type other than void, it's a serious bug, and the compiler prints a warning diagnostic message. If the function has a void return type, this behavior is okay, but may be considered poor style. Use a plain return statement to make your intent clear.\n"
   ]
  },
  {
   "cell_type": "raw",
   "id": "c1de5ef8",
   "metadata": {},
   "source": [
    "9. How do you make a function variable refer to the global variable?\n",
    "\n",
    "Solution:\n",
    "\n",
    "If you want to refer to a global variable in a function, you can use the global keyword to declare which variables are global. \n",
    "\n",
    "e.g.\n",
    "\n",
    "def create_global_variable():\n",
    "    global global_variable # must declare it to be a global first\n",
    "    global_variable = 'Hello' \n",
    "    "
   ]
  },
  {
   "cell_type": "raw",
   "id": "b850d045",
   "metadata": {},
   "source": [
    "10. What is the data type of None?\n",
    "\n",
    "Solution:\n",
    "\n",
    "None is a data type of its own (NoneType) and only None can be None.The None keyword is used to define a null value, or no value at all.None is not the same as 0, False, or an empty string. \n",
    "\n"
   ]
  },
  {
   "cell_type": "raw",
   "id": "966be72d",
   "metadata": {},
   "source": [
    "11. What does the sentence import areallyourpetsnamederic do?\n",
    "\n",
    "\n",
    "Solution:\n",
    "\n",
    "That import statement imports a module named areallyourpetsnamederic."
   ]
  },
  {
   "cell_type": "raw",
   "id": "ae7ee82d",
   "metadata": {},
   "source": [
    "12. If you had a bacon() feature in a spam module, what would you call it after importing spam?\n",
    "\n",
    "Solution:\n",
    "\n",
    "This function can be called with spam.bacon().\n",
    "\n",
    "\n"
   ]
  },
  {
   "cell_type": "raw",
   "id": "4f1a8bd4",
   "metadata": {},
   "source": [
    "13. What can you do to save a programme from crashing if it encounters an error?\n",
    "\n",
    "Solution:\n",
    "\n",
    "Place the line of code that might cause an error in a try clause.\n",
    "or handle the error occur with error handling.\n"
   ]
  },
  {
   "cell_type": "raw",
   "id": "bbd2dc20",
   "metadata": {},
   "source": [
    "14. What is the purpose of the try clause? What is the purpose of the except clause?\n",
    "\n",
    "Solution:\n",
    "\n",
    "The code that could potentially cause an error goes in the try clause.\n",
    "The code that executes if an error happens goes in the except clause.\n",
    "Both are parts of error handling in program function and codes."
   ]
  }
 ],
 "metadata": {
  "kernelspec": {
   "display_name": "Python 3",
   "language": "python",
   "name": "python3"
  },
  "language_info": {
   "codemirror_mode": {
    "name": "ipython",
    "version": 3
   },
   "file_extension": ".py",
   "mimetype": "text/x-python",
   "name": "python",
   "nbconvert_exporter": "python",
   "pygments_lexer": "ipython3",
   "version": "3.8.6"
  }
 },
 "nbformat": 4,
 "nbformat_minor": 5
}

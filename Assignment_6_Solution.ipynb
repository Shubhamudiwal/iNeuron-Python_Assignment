{
 "cells": [
  {
   "cell_type": "raw",
   "id": "25dc8735",
   "metadata": {},
   "source": [
    "1. What are escape characters, and how do you use them?\n",
    "Solution:\n",
    "Escape characters represent characters in string values that would otherwise be difficult or impossible to type into code.\n"
   ]
  },
  {
   "cell_type": "raw",
   "id": "37f53563",
   "metadata": {},
   "source": [
    "2. What do the escape characters n and t stand for?\n",
    "Solution:\n",
    "\\n is a newline; \\t is a tab.\n"
   ]
  },
  {
   "cell_type": "raw",
   "id": "89951b3d",
   "metadata": {},
   "source": [
    "3. What is the way to include backslash characters in a string?\n",
    "Solution:\n",
    "The \\\\ escape character will represent a backslash character.\n"
   ]
  },
  {
   "cell_type": "raw",
   "id": "6f8e8be5",
   "metadata": {},
   "source": [
    "4. The string \"Howl's Moving Castle\" is a correct value. Why isn't the single quote character in the word Howl's not escaped a problem?\n",
    "Solution:\n",
    "The single quote in Howl's is fine because you’ve used double quotes to mark the beginning and end of the string.\n"
   ]
  },
  {
   "cell_type": "raw",
   "id": "7ca28b7b",
   "metadata": {},
   "source": [
    "5. How do you write a string of newlines if you don't want to use the n character?\n",
    "Solution:\n",
    "Multiline strings allow you to use newlines in strings without the \\n escape character.\n"
   ]
  },
  {
   "cell_type": "raw",
   "id": "e487c615",
   "metadata": {},
   "source": [
    "6. What are the values of the given expressions?\n",
    "'Hello, world!'[1]\n",
    "'Hello, world!'[0:5]\n",
    "'Hello, world!'[:5]\n",
    "'Hello, world!'[3:]\n",
    "Solution:\n",
    "'e'\n",
    "\n",
    "'Hello'\n",
    "\n",
    "'Hello'\n",
    "\n",
    "'lo world!\n",
    "\n"
   ]
  },
  {
   "cell_type": "raw",
   "id": "3756e84a",
   "metadata": {},
   "source": [
    "7. What are the values of the following expressions?\n",
    "'Hello'.upper()\n",
    "'Hello'.upper().isupper()\n",
    "'Hello'.upper().lower()\n",
    "Solution:\n",
    "'HELLO'\n",
    "\n",
    "True\n",
    "\n",
    "'hello'\n",
    "\n"
   ]
  },
  {
   "cell_type": "raw",
   "id": "53494b65",
   "metadata": {},
   "source": [
    "8. What are the values of the following expressions?\n",
    "'Remember, remember, the fifth of July.'.split()\n",
    "'-'.join('There can only one.'.split())\n",
    "Solution:\n",
    "['Remember,', 'remember,', 'the', 'fifth', 'of', 'November.']\n",
    "\n",
    "'There-can-be-only-one.'\n"
   ]
  },
  {
   "cell_type": "raw",
   "id": "1c7b617f",
   "metadata": {},
   "source": [
    "9. What are the methods for right-justifying, left-justifying, and centering a string?\n",
    "Solution:\n",
    "The rjust(), ljust(), and center() string methods, respectively\n"
   ]
  },
  {
   "cell_type": "raw",
   "id": "f93edae2",
   "metadata": {},
   "source": [
    "10. What is the best way to remove whitespace characters from the start or end?\n",
    "Solution:\n",
    "The lstrip() and rstrip() methods remove whitespace from the left and right ends of a string, respectively."
   ]
  }
 ],
 "metadata": {
  "kernelspec": {
   "display_name": "Python 3",
   "language": "python",
   "name": "python3"
  },
  "language_info": {
   "codemirror_mode": {
    "name": "ipython",
    "version": 3
   },
   "file_extension": ".py",
   "mimetype": "text/x-python",
   "name": "python",
   "nbconvert_exporter": "python",
   "pygments_lexer": "ipython3",
   "version": "3.8.6"
  }
 },
 "nbformat": 4,
 "nbformat_minor": 5
}

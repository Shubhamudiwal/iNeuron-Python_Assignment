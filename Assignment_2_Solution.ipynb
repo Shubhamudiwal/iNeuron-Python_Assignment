{
 "cells": [
  {
   "cell_type": "raw",
   "id": "1897b791",
   "metadata": {},
   "source": [
    "1.What are the two values of the Boolean data type? How do you write them?\n",
    "\n"
   ]
  },
  {
   "cell_type": "raw",
   "id": "ab63397d",
   "metadata": {},
   "source": [
    "Solution:\n",
    "\n",
    "Values for the boolean data type is either True or False.\n",
    "it is used to check or test a condition.\n",
    "we can right e.g."
   ]
  },
  {
   "cell_type": "code",
   "execution_count": 6,
   "id": "036b2685",
   "metadata": {},
   "outputs": [],
   "source": [
    "boolean = True\n",
    "flag = bool"
   ]
  },
  {
   "cell_type": "raw",
   "id": "639e65e9",
   "metadata": {},
   "source": [
    "2. What are the three different types of Boolean operators?"
   ]
  },
  {
   "cell_type": "raw",
   "id": "c527c771",
   "metadata": {},
   "source": [
    "Solution:\n",
    "\n",
    "The AND operator (&& or “and”)\n",
    "The OR operator (|| or “or”)\n",
    "The NOT operator (not)"
   ]
  },
  {
   "cell_type": "raw",
   "id": "a4392958",
   "metadata": {},
   "source": [
    "3. Make a list of each Boolean operator's truth tables (i.e. every possible combination of Boolean values for the operator and what it evaluate )."
   ]
  },
  {
   "cell_type": "raw",
   "id": "9b381aa0",
   "metadata": {},
   "source": [
    "Solution:\n",
    "\n",
    "AND Truth Table\n",
    "\n",
    "x\t    and\t y\t    Returns\n",
    "\n",
    "True\tand\tTrue\tTrue\n",
    "\n",
    "True\tand\tFalse\tFalse\n",
    "\n",
    "False\tand\tTrue\tFalse\n",
    "\n",
    "False\tand\tFalse\tFalse\n",
    "\n",
    "OR Truth Table\n",
    "\n",
    "x\t    and\t y\t    Returns\n",
    "\n",
    "True\tor\tTrue\tTrue\n",
    "\n",
    "True\tor\tFalse\tTrue\n",
    "\n",
    "False\tor\tTrue\tTrue\n",
    "\n",
    "False\tor\tFalse\tFalse\n",
    "\n",
    "NOT Truth Table\n",
    "\n",
    "not\tx\t    Returns\n",
    "\n",
    "not\tTrue\tFalse\n",
    "\n",
    "not\tFalse\tTrue"
   ]
  },
  {
   "cell_type": "raw",
   "id": "2e0241da",
   "metadata": {},
   "source": [
    "# 4. What are the values of the following expressions?\n",
    "\n",
    "(5 > 4) and (3 == 5)\n",
    "\n",
    "not (5 > 4)\n",
    "\n",
    "(5 > 4) or (3 == 5)\n",
    "\n",
    "not ((5 > 4) or (3 == 5))\n",
    "\n",
    "(True and True) and (True == False)\n",
    "\n",
    "(not False) or (not True)\n"
   ]
  },
  {
   "cell_type": "raw",
   "id": "924d5a36",
   "metadata": {},
   "source": [
    "Solution:\n",
    "\n",
    "(5 > 4) and (3 == 5)=False\n",
    "\n",
    "\n",
    "not (5 > 4) = False\n",
    "\n",
    "(5 > 4) or (3 == 5) = True\n",
    "\n",
    "not ((5 > 4) or (3 == 5)) = False\n",
    "\n",
    "(True and True) and (True == False)=False\n",
    "\n",
    "\n",
    "(not False) or (not True) = True\n"
   ]
  },
  {
   "cell_type": "raw",
   "id": "28f4bb1c",
   "metadata": {},
   "source": [
    "5. What are the six comparison operators?\n"
   ]
  },
  {
   "cell_type": "raw",
   "id": "60e887b1",
   "metadata": {},
   "source": [
    "Solution:\n",
    "\n",
    "Operator\tName\t   \n",
    "\n",
    "==\t        Equal\t\n",
    "\n",
    "!=\t        Not equal\t\n",
    "\n",
    ">\t        Greater than\t\n",
    "\n",
    "<\t        Less than\t\n",
    "\n",
    "> =\t        Greater than or equal to\n",
    "\n",
    "< =\t        Less than or equal to\t\n"
   ]
  },
  {
   "cell_type": "raw",
   "id": "88c72e57",
   "metadata": {},
   "source": [
    "6. How do you tell the difference between the equal to and assignment operators?Describe a condition and when you would use one."
   ]
  },
  {
   "cell_type": "raw",
   "id": "c4bdc0d7",
   "metadata": {},
   "source": [
    "Solution:\n",
    "\n",
    "\"=\" is an assignment operator which is used to assign value to the variable ex: b=7\n",
    "\n",
    "\"==\" is a relational operator which is used to find the relation between two operands and returns in boolen value either \n",
    "'true' or 'false' example: 5==5\n",
    "Condition true\n",
    "Returns 1 or true\n"
   ]
  },
  {
   "cell_type": "raw",
   "id": "4cf0c88c",
   "metadata": {},
   "source": [
    "7. Identify the three blocks in this code:\n",
    "spam = 0\n",
    "if spam == 10:\n",
    "print('eggs')\n",
    "if spam > 5:\n",
    "print('bacon')\n",
    "else:\n",
    "print('ham')\n",
    "print('spam')\n",
    "print('spam')\n"
   ]
  },
  {
   "cell_type": "raw",
   "id": "76f9d04a",
   "metadata": {},
   "source": [
    "Solution:\n",
    "\n",
    "spam = 0\n",
    "if spam == 10:\n",
    "    print('eggs')        # indent increased, block A\n",
    "    if spam > 5:         # block A\n",
    "        print('bacon')   # block B inside block A\n",
    "    else:                # block B ended in line above\n",
    "        print('ham')     # block C inside block A\n",
    "    print('spam')        # block C ended in line above\n",
    "print('spam')            # block A ended in line above"
   ]
  },
  {
   "cell_type": "raw",
   "id": "cf7e0380",
   "metadata": {},
   "source": [
    "8. Write code that prints Hello if 1 is stored in spam, prints Howdy if 2 is stored in spam, and prints Greetings! if anything else is stored in spam.\n",
    "\n",
    "Solution:"
   ]
  },
  {
   "cell_type": "code",
   "execution_count": 24,
   "id": "b696cea3",
   "metadata": {},
   "outputs": [
    {
     "ename": "KeyboardInterrupt",
     "evalue": "Interrupted by user",
     "output_type": "error",
     "traceback": [
      "\u001b[1;31m---------------------------------------------------------------------------\u001b[0m",
      "\u001b[1;31mKeyboardInterrupt\u001b[0m                         Traceback (most recent call last)",
      "\u001b[1;32m<ipython-input-24-773301bd1aff>\u001b[0m in \u001b[0;36m<module>\u001b[1;34m\u001b[0m\n\u001b[1;32m----> 1\u001b[1;33m \u001b[0mspam\u001b[0m \u001b[1;33m=\u001b[0m  \u001b[0mint\u001b[0m\u001b[1;33m(\u001b[0m\u001b[0minput\u001b[0m\u001b[1;33m(\u001b[0m\u001b[1;34m\"Enter a integer value: \"\u001b[0m\u001b[1;33m)\u001b[0m\u001b[1;33m)\u001b[0m\u001b[1;33m\u001b[0m\u001b[1;33m\u001b[0m\u001b[0m\n\u001b[0m\u001b[0;32m      2\u001b[0m \u001b[1;32mif\u001b[0m \u001b[0mspam\u001b[0m \u001b[1;33m==\u001b[0m \u001b[1;36m1\u001b[0m\u001b[1;33m:\u001b[0m\u001b[1;33m\u001b[0m\u001b[1;33m\u001b[0m\u001b[0m\n\u001b[0;32m      3\u001b[0m     \u001b[0mprint\u001b[0m\u001b[1;33m(\u001b[0m\u001b[1;34m\"Hello\"\u001b[0m\u001b[1;33m)\u001b[0m\u001b[1;33m\u001b[0m\u001b[1;33m\u001b[0m\u001b[0m\n\u001b[0;32m      4\u001b[0m \u001b[1;32melif\u001b[0m \u001b[0mspam\u001b[0m \u001b[1;33m==\u001b[0m \u001b[1;36m2\u001b[0m \u001b[1;33m:\u001b[0m\u001b[1;33m\u001b[0m\u001b[1;33m\u001b[0m\u001b[0m\n\u001b[0;32m      5\u001b[0m     \u001b[0mprint\u001b[0m\u001b[1;33m(\u001b[0m\u001b[1;34m\"Howdy\"\u001b[0m\u001b[1;33m)\u001b[0m\u001b[1;33m\u001b[0m\u001b[1;33m\u001b[0m\u001b[0m\n",
      "\u001b[1;32mc:\\users\\dell\\appdata\\local\\programs\\python\\python38\\lib\\site-packages\\ipykernel\\kernelbase.py\u001b[0m in \u001b[0;36mraw_input\u001b[1;34m(self, prompt)\u001b[0m\n\u001b[0;32m    846\u001b[0m                 \u001b[1;34m\"raw_input was called, but this frontend does not support input requests.\"\u001b[0m\u001b[1;33m\u001b[0m\u001b[1;33m\u001b[0m\u001b[0m\n\u001b[0;32m    847\u001b[0m             )\n\u001b[1;32m--> 848\u001b[1;33m         return self._input_request(str(prompt),\n\u001b[0m\u001b[0;32m    849\u001b[0m             \u001b[0mself\u001b[0m\u001b[1;33m.\u001b[0m\u001b[0m_parent_ident\u001b[0m\u001b[1;33m,\u001b[0m\u001b[1;33m\u001b[0m\u001b[1;33m\u001b[0m\u001b[0m\n\u001b[0;32m    850\u001b[0m             \u001b[0mself\u001b[0m\u001b[1;33m.\u001b[0m\u001b[0m_parent_header\u001b[0m\u001b[1;33m,\u001b[0m\u001b[1;33m\u001b[0m\u001b[1;33m\u001b[0m\u001b[0m\n",
      "\u001b[1;32mc:\\users\\dell\\appdata\\local\\programs\\python\\python38\\lib\\site-packages\\ipykernel\\kernelbase.py\u001b[0m in \u001b[0;36m_input_request\u001b[1;34m(self, prompt, ident, parent, password)\u001b[0m\n\u001b[0;32m    890\u001b[0m             \u001b[1;32mexcept\u001b[0m \u001b[0mKeyboardInterrupt\u001b[0m\u001b[1;33m:\u001b[0m\u001b[1;33m\u001b[0m\u001b[1;33m\u001b[0m\u001b[0m\n\u001b[0;32m    891\u001b[0m                 \u001b[1;31m# re-raise KeyboardInterrupt, to truncate traceback\u001b[0m\u001b[1;33m\u001b[0m\u001b[1;33m\u001b[0m\u001b[1;33m\u001b[0m\u001b[0m\n\u001b[1;32m--> 892\u001b[1;33m                 \u001b[1;32mraise\u001b[0m \u001b[0mKeyboardInterrupt\u001b[0m\u001b[1;33m(\u001b[0m\u001b[1;34m\"Interrupted by user\"\u001b[0m\u001b[1;33m)\u001b[0m \u001b[1;32mfrom\u001b[0m \u001b[1;32mNone\u001b[0m\u001b[1;33m\u001b[0m\u001b[1;33m\u001b[0m\u001b[0m\n\u001b[0m\u001b[0;32m    893\u001b[0m             \u001b[1;32mexcept\u001b[0m \u001b[0mException\u001b[0m \u001b[1;32mas\u001b[0m \u001b[0me\u001b[0m\u001b[1;33m:\u001b[0m\u001b[1;33m\u001b[0m\u001b[1;33m\u001b[0m\u001b[0m\n\u001b[0;32m    894\u001b[0m                 \u001b[0mself\u001b[0m\u001b[1;33m.\u001b[0m\u001b[0mlog\u001b[0m\u001b[1;33m.\u001b[0m\u001b[0mwarning\u001b[0m\u001b[1;33m(\u001b[0m\u001b[1;34m\"Invalid Message:\"\u001b[0m\u001b[1;33m,\u001b[0m \u001b[0mexc_info\u001b[0m\u001b[1;33m=\u001b[0m\u001b[1;32mTrue\u001b[0m\u001b[1;33m)\u001b[0m\u001b[1;33m\u001b[0m\u001b[1;33m\u001b[0m\u001b[0m\n",
      "\u001b[1;31mKeyboardInterrupt\u001b[0m: Interrupted by user"
     ]
    }
   ],
   "source": [
    "spam =  int(input(\"Enter a integer value: \"))\n",
    "if spam == 1:\n",
    "    print(\"Hello\")\n",
    "elif spam == 2 :\n",
    "    print(\"Howdy\")\n",
    "else:\n",
    "    print(\"Greetings!\")\n",
    "    "
   ]
  },
  {
   "cell_type": "raw",
   "id": "8cd7aecd",
   "metadata": {},
   "source": [
    "9.If your programme is stuck in an endless loop, what keys you’ll press?\n",
    "\n",
    "Solution:\n",
    "\n",
    "CTRL + C\n"
   ]
  },
  {
   "cell_type": "raw",
   "id": "2df12992",
   "metadata": {},
   "source": [
    "10. How can you tell the difference between break and continue?\n",
    "\n",
    "Solution:\n",
    "\n",
    "The break statement in Python terminates the current loop and resumes execution at the next statement\n",
    "The break statement can be used in both while and for loops.\n",
    "\n",
    "E.g.\n"
   ]
  },
  {
   "cell_type": "code",
   "execution_count": 29,
   "id": "ca4220b4",
   "metadata": {},
   "outputs": [
    {
     "name": "stdout",
     "output_type": "stream",
     "text": [
      "Current variable value : 10\n",
      "Current variable value : 9\n",
      "Current variable value : 8\n",
      "Current variable value : 7\n",
      "Current variable value : 6\n",
      "Good bye!\n"
     ]
    }
   ],
   "source": [
    "var = 10                    # Second Example\n",
    "while var > 0:              \n",
    "   print ('Current variable value :', var)\n",
    "   var = var -1\n",
    "   if var == 5:\n",
    "      break\n",
    "print (\"Good bye!\")"
   ]
  },
  {
   "cell_type": "raw",
   "id": "46699ab5",
   "metadata": {},
   "source": [
    "The continue statement in Python returns the control to the beginning of the while loop. The continue statement rejects all the remaining statements in the current iteration of the loop and moves the control back to the top of the loop.\n",
    "\n",
    "The continue statement can be used in both while and for loops.\n",
    "\n"
   ]
  },
  {
   "cell_type": "code",
   "execution_count": 31,
   "id": "c6687e66",
   "metadata": {},
   "outputs": [
    {
     "name": "stdout",
     "output_type": "stream",
     "text": [
      "Current variable value : 9\n",
      "Current variable value : 8\n",
      "Current variable value : 7\n",
      "Current variable value : 6\n",
      "Current variable value : 4\n",
      "Current variable value : 3\n",
      "Current variable value : 2\n",
      "Current variable value : 1\n",
      "Current variable value : 0\n",
      "Good bye!\n"
     ]
    }
   ],
   "source": [
    "var = 10                    # Second Example\n",
    "while var > 0:              \n",
    "   var = var -1\n",
    "   if var == 5:\n",
    "      continue\n",
    "   print ('Current variable value :', var)\n",
    "print (\"Good bye!\")"
   ]
  },
  {
   "cell_type": "raw",
   "id": "542f49e0",
   "metadata": {},
   "source": [
    "11. In a for loop, what is the difference between range(10), range(0, 10), and range(0, 10, 1)?\n",
    "\n",
    "Solution:\n",
    "\n",
    "range(10) takes one argument.\n",
    "When user call range() with one argument, user will get a series of numbers that starts at 0 and includes every whole number up to, but not including, the number that user have provided as the stop. For Example –"
   ]
  },
  {
   "cell_type": "code",
   "execution_count": 32,
   "id": "96f84e6f",
   "metadata": {},
   "outputs": [
    {
     "name": "stdout",
     "output_type": "stream",
     "text": [
      "0 1 2 3 4 5 6 7 8 9 \n"
     ]
    }
   ],
   "source": [
    "for i in range(10):\n",
    "    print(i, end =\" \")\n",
    "print()"
   ]
  },
  {
   "cell_type": "raw",
   "id": "f357a2d4",
   "metadata": {},
   "source": [
    "range(0, 10)\n",
    "When user call range() with two arguments, user get to decide not only where the series of numbers stops but also where it starts, so user don’t have to start at 0 all the time. User can use range() to generate a series of numbers from X to Y using a range(X, Y). For Example\n"
   ]
  },
  {
   "cell_type": "code",
   "execution_count": 33,
   "id": "b9d9a117",
   "metadata": {},
   "outputs": [
    {
     "name": "stdout",
     "output_type": "stream",
     "text": [
      "1 2 3 4 5 6 7 8 9 10 11 12 13 14 15 16 17 18 19 \n"
     ]
    }
   ],
   "source": [
    "for i in range(1, 20):\n",
    "    print(i, end =\" \")\n",
    "print()"
   ]
  },
  {
   "cell_type": "raw",
   "id": "d6fe76d2",
   "metadata": {},
   "source": [
    "range(0, 10, 1)\n",
    "\n",
    "When user call range() with three arguments, user can choose not only where the series of numbers will start and stop but also how big the difference will be between one number and the next. If user don’t provide a step, then range() will automatically behave as if the step is 1.\n",
    "\n"
   ]
  },
  {
   "cell_type": "code",
   "execution_count": 34,
   "id": "6f308191",
   "metadata": {},
   "outputs": [
    {
     "name": "stdout",
     "output_type": "stream",
     "text": [
      "0 3 6 9 12 15 18 21 24 27 \n"
     ]
    }
   ],
   "source": [
    "for i in range(0, 30, 3):\n",
    "    print(i, end = \" \")\n",
    "print()"
   ]
  },
  {
   "cell_type": "raw",
   "id": "dafdeb94",
   "metadata": {},
   "source": [
    "12. Write a short program that prints the numbers 1 to 10 using a for loop. Then write an equivalent program that prints the numbers 1 to 10 using a while loop.\n",
    "\n",
    "Solution:\n"
   ]
  },
  {
   "cell_type": "code",
   "execution_count": 37,
   "id": "55562916",
   "metadata": {},
   "outputs": [
    {
     "name": "stdout",
     "output_type": "stream",
     "text": [
      "1 2 3 4 5 6 7 8 9 10 "
     ]
    }
   ],
   "source": [
    "#For loop\n",
    "for i in range(1,11):\n",
    "    print(i,end = \" \")\n"
   ]
  },
  {
   "cell_type": "code",
   "execution_count": 40,
   "id": "14d77bc1",
   "metadata": {},
   "outputs": [
    {
     "name": "stdout",
     "output_type": "stream",
     "text": [
      "1 2 3 4 5 6 7 8 9 10 "
     ]
    }
   ],
   "source": [
    "#While loop\n",
    "i=1\n",
    "while i <=10:\n",
    "    print(i,end = \" \")\n",
    "    i+=1"
   ]
  },
  {
   "cell_type": "raw",
   "id": "fc9cdf50",
   "metadata": {},
   "source": [
    "13. If you had a function named bacon() inside a module named spam, how would you call it after importing spam?\n",
    "\n",
    "Solution:\n",
    "\n",
    "import spam\n",
    "spam.bacon()"
   ]
  }
 ],
 "metadata": {
  "kernelspec": {
   "display_name": "Python 3",
   "language": "python",
   "name": "python3"
  },
  "language_info": {
   "codemirror_mode": {
    "name": "ipython",
    "version": 3
   },
   "file_extension": ".py",
   "mimetype": "text/x-python",
   "name": "python",
   "nbconvert_exporter": "python",
   "pygments_lexer": "ipython3",
   "version": "3.8.6"
  }
 },
 "nbformat": 4,
 "nbformat_minor": 5
}

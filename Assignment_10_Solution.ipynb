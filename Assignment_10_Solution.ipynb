{
 "cells": [
  {
   "cell_type": "raw",
   "id": "9494b471",
   "metadata": {},
   "source": [
    "1. How do you distinguish between shutil.copy() and shutil.copytree()?"
   ]
  },
  {
   "cell_type": "raw",
   "id": "fca15fa1",
   "metadata": {},
   "source": [
    "Solution: The shutil.copy() function will copy a single file, while shutil.copytree() will copy an entire folder, along with all its contents."
   ]
  },
  {
   "cell_type": "raw",
   "id": "2fe685e3",
   "metadata": {},
   "source": [
    "2. What function is used to rename files??"
   ]
  },
  {
   "cell_type": "raw",
   "id": "cb8ef73f",
   "metadata": {},
   "source": [
    "Solution:  The shutil.move() function is used for renaming files, as well as moving them."
   ]
  },
  {
   "cell_type": "raw",
   "id": "1d7cbdf7",
   "metadata": {},
   "source": [
    "3. What is the difference between the delete functions in the send2trash and shutil modules?"
   ]
  },
  {
   "cell_type": "raw",
   "id": "8d1cebfa",
   "metadata": {},
   "source": [
    "Solution: The send2trash functions will move a file or folder to the recycle bin, while shutil functions will permanently delete files and folders."
   ]
  },
  {
   "cell_type": "raw",
   "id": "2911ada4",
   "metadata": {},
   "source": [
    "4.ZipFile objects have a close() method just like File objects’ close() method. What ZipFile method is equivalent to File objects’ open() method?"
   ]
  },
  {
   "cell_type": "raw",
   "id": "81640001",
   "metadata": {},
   "source": [
    "Solution: The zipfile.ZipFile() function is equivalent to the open() function; the first argument is the filename, and the second argument is the mode to open the ZIP file in (read, write, or append)."
   ]
  },
  {
   "cell_type": "raw",
   "id": "3c542d6b",
   "metadata": {},
   "source": [
    "5. Create a programme that searches a folder tree for files with a certain file extension (such as .pdf or .jpg). Copy these files from whatever location they are in to a new folder."
   ]
  },
  {
   "cell_type": "code",
   "execution_count": 5,
   "id": "35186062",
   "metadata": {},
   "outputs": [],
   "source": [
    "#Solution:\n",
    "\n",
    "import os\n",
    "import shutil\n",
    "SOURCE_DIR = 'D:/'\n",
    "DEST_DIR = 'D:/QgisTools'\n",
    "\n",
    "for fname in os.listdir(SOURCE_DIR):\n",
    "    if fname.lower().endswith('.txt'):\n",
    "        shutil.copy(os.path.join(SOURCE_DIR, fname), DEST_DIR)"
   ]
  },
  {
   "cell_type": "code",
   "execution_count": null,
   "id": "d77017e9",
   "metadata": {},
   "outputs": [],
   "source": []
  }
 ],
 "metadata": {
  "kernelspec": {
   "display_name": "Python 3",
   "language": "python",
   "name": "python3"
  },
  "language_info": {
   "codemirror_mode": {
    "name": "ipython",
    "version": 3
   },
   "file_extension": ".py",
   "mimetype": "text/x-python",
   "name": "python",
   "nbconvert_exporter": "python",
   "pygments_lexer": "ipython3",
   "version": "3.8.8"
  }
 },
 "nbformat": 4,
 "nbformat_minor": 5
}

{
 "cells": [
  {
   "cell_type": "raw",
   "id": "0107e68e",
   "metadata": {},
   "source": [
    "1. Is the Python Standard Library included with PyInputPlus?"
   ]
  },
  {
   "cell_type": "raw",
   "id": "4dd1481d",
   "metadata": {},
   "source": [
    "Solution:\n",
    "No. PyInputPlus is a third-party module and doesn’t come with the\n",
    "Python Standard Library."
   ]
  },
  {
   "cell_type": "raw",
   "id": "cf57f207",
   "metadata": {},
   "source": [
    "2. Why is PyInputPlus commonly imported with import pyinputplus as pypi?"
   ]
  },
  {
   "cell_type": "raw",
   "id": "f170996e",
   "metadata": {},
   "source": [
    "Solutiion:\n",
    "This optionally makes your code shorter to type: you can type pyip\n",
    ".inputStr() instead of pyinputplus.inputStr()."
   ]
  },
  {
   "cell_type": "raw",
   "id": "3e00ecc0",
   "metadata": {},
   "source": [
    "3. How do you distinguish between inputInt() and inputFloat()?"
   ]
  },
  {
   "cell_type": "raw",
   "id": "184263ef",
   "metadata": {},
   "source": [
    "Solution:\n",
    "The inputInt() function returns an int value, while the inputFloat()\n",
    "function returns a float value. This is the difference between returning\n",
    "4 and 4.0"
   ]
  },
  {
   "cell_type": "raw",
   "id": "0579eaef",
   "metadata": {},
   "source": [
    "4. Using PyInputPlus, how do you ensure that the user enters a whole number between 0 and 99?"
   ]
  },
  {
   "cell_type": "raw",
   "id": "55a041a1",
   "metadata": {},
   "source": [
    "Solution:\n",
    "Call pyip.inputint(min=0, max=99)"
   ]
  },
  {
   "cell_type": "raw",
   "id": "de776b14",
   "metadata": {},
   "source": [
    "5. What is transferred to the keyword arguments allowRegexes and blockRegexes?"
   ]
  },
  {
   "cell_type": "raw",
   "id": "7d28a833",
   "metadata": {},
   "source": [
    "Solution:\n",
    "A list of regex strings that are either explicitly allowed or denied"
   ]
  },
  {
   "cell_type": "raw",
   "id": "0c0381b4",
   "metadata": {},
   "source": [
    "6. If a blank input is entered three times, what does inputStr(limit=3) do?"
   ]
  },
  {
   "cell_type": "raw",
   "id": "61234620",
   "metadata": {},
   "source": [
    "Solution:\n",
    "The function will raise RetryLimitException"
   ]
  },
  {
   "cell_type": "raw",
   "id": "c4f89a28",
   "metadata": {},
   "source": [
    "7. If blank input is entered three times, what does inputStr(limit=3, default='hello') do?"
   ]
  },
  {
   "cell_type": "raw",
   "id": "4c1ef9f6",
   "metadata": {},
   "source": [
    "Solution:\n",
    "The function returns the value 'hello'"
   ]
  }
 ],
 "metadata": {
  "kernelspec": {
   "display_name": "Python 3",
   "language": "python",
   "name": "python3"
  },
  "language_info": {
   "codemirror_mode": {
    "name": "ipython",
    "version": 3
   },
   "file_extension": ".py",
   "mimetype": "text/x-python",
   "name": "python",
   "nbconvert_exporter": "python",
   "pygments_lexer": "ipython3",
   "version": "3.8.6"
  }
 },
 "nbformat": 4,
 "nbformat_minor": 5
}
